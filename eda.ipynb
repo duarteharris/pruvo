{
 "cells": [
  {
   "cell_type": "code",
   "execution_count": null,
   "metadata": {},
   "outputs": [],
   "source": []
  },
  {
   "attachments": {},
   "cell_type": "markdown",
   "metadata": {},
   "source": [
    "# Exploratory Data Analysis (EDA) of a Pruvo dataset.\n",
    "\n",
    "## Instructions:\n",
    "Let me share with you a sample of the data we do have on our end and let me know what you think.\n",
    "\n",
    "During the last years we were collecting a lot of human decisions regarding the relations of 2 room types.\n",
    "\n",
    "In the following excel: https://docs.google.com/spreadsheets/d/1AjDaqnXrZFy3KAspjUAVo5cLt37MEVXOuBooYDM9Kr8/edit?usp=sharing\n",
    "\n",
    "You can see the decisions made between the original room type (Col A) and the proposed one (Col B).\n",
    "\n",
    "Links = how many times a person clicked that both rooms in A and B are the same (if it is higher than 6 it means someone put a \"force\" match decision – this is the admin 1000 score you see)\n",
    "\n",
    "Unlinks = how many times someone decided it is not a match (different room type)\n",
    "\n",
    "Score = links – unlinks + admin\n",
    "\n",
    "I think we have a few millions of rows like that (of course that there are mistakes there as it was a human decision)\n",
    "\n",
    "Let me know what you think…\n",
    "\n",
    "## Initial Reflections\n",
    "It seems that in the dataset I'm about to analyse there are 2 columns (A & B), A being the original, B being the one proposed by Pruvo, then a third column called \"Links\" that scores "
   ]
  }
 ],
 "metadata": {
  "kernelspec": {
   "display_name": "pruvo_env",
   "language": "python",
   "name": "python3"
  },
  "language_info": {
   "name": "python",
   "version": "3.11.4"
  },
  "orig_nbformat": 4,
  "vscode": {
   "interpreter": {
    "hash": "a4e6fcf95514680bc5f83daad137e1a6dcae525ba08020e51c8a183e22e2ac65"
   }
  }
 },
 "nbformat": 4,
 "nbformat_minor": 2
}
